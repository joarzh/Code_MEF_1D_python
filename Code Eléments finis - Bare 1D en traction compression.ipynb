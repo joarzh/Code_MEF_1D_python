{
 "cells": [
  {
   "cell_type": "markdown",
   "metadata": {},
   "source": [
    "# Code pour le calcul de la déformée d'une barre 1D en traction/compression"
   ]
  },
  {
   "cell_type": "markdown",
   "metadata": {},
   "source": [
    "## Présentation du problème \n",
    "\n",
    "On considère une poutre de longueur $L$ encastrée en $O$ ($u_0 = 0$), non pesante et soumise à un effort de traction traction compression $\\underline{F}$ en $A$.     "
   ]
  },
  {
   "cell_type": "markdown",
   "metadata": {},
   "source": [
    "### Approche énergétique\n",
    "\n",
    "Ceci est un test Latex",
	"Trouver $$u \\in C | a(u,v) = l(v) \\quad v\\in C_0$$\n",
    "avec $$ C = \\{u:x \\in (0,L) \\rightarrow u(x) \\in \\mathbb{R} | u(0) = 0 \\}$$\n",
    "et \n",
    "\\begin{align}\n",
    "a(u,v)& = \\int_0^Lu'(x)v'(x)ES \\text{d}x\n",
    "\\end{align}"
   ]
  },
  {
   "cell_type": "markdown",
   "metadata": {},
   "source": [
    "## Hypothèses de modélisation\n",
    "- Modélisation 1D : Les éléments du maillage de la barre sont des éléments <span style='color:red'> B2 </span>\n",
    "- Les éléments ainsi que les noeuds sont rangés dans l'ordre croissant \n",
    "- Les éléments sont tous identiques et d'ordre 1 (fonction de forme linéaire)"
   ]
  },
  {
   "cell_type": "markdown",
   "metadata": {},
   "source": [
    "## Avertissement \n",
    "Les hypothèses de modélisation impliquent que le code présenté est utilisable exclusivement au problème traité. Certaines strcutures de code employées ne conviendront pas aux problèmes aux caractéristiques suivantes :\n",
    "- Code pour modèle 2D/3D \n",
    "    - avec plus d'un DDL par noeud \n",
    "    - des éléments 2D\n",
    "    - organisation des noeuds (qui nécessiterait de faire la correspondance coordonnée locale/globale des noeuds\n",
    "- Emploi d'éléments différents (qui nécessiterait la transformation d'éléments de référence caractérisée par la matrice <span style='color:red'> Jacobienne </span>)\n",
    "    "
   ]
  },
  {
   "cell_type": "markdown",
   "metadata": {},
   "source": [
    "## Améliorations\n",
    "Ci-dessous la liste des améliorations à apporter au code pour étoffer la méthode de résolution et ainsi couvrir plus de configurations : \n",
    "- Améliorer la création de la variable `nddlconnus` par lecture du problème\n",
    "- Détecter les ddls des CLs sans avoir à les indiquer manuellement"
   ]
  },
  {
   "cell_type": "markdown",
   "metadata": {},
   "source": [
    "# Code par la méthode des éléments finis"
   ]
  },
  {
   "cell_type": "markdown",
   "metadata": {},
   "source": [
    "#### Importation des packages"
   ]
  },
  {
   "cell_type": "code",
   "execution_count": 1,
   "metadata": {},
   "outputs": [],
   "source": [
    "import numpy as np\n",
    "import matplotlib.pyplot as plt\n",
    "from ipywidgets import interactive "
   ]
  },
  {
   "cell_type": "markdown",
   "metadata": {},
   "source": [
    "#### Variables"
   ]
  },
  {
   "cell_type": "code",
   "execution_count": 2,
   "metadata": {},
   "outputs": [],
   "source": [
    "# Taille de la barre (en m)\n",
    "L = 2.\n",
    "# Section de la poutre (en m²)\n",
    "S = 0.005\n",
    "# Masse volumique de la barre (aluminium) (kg/m³)\n",
    "rho = 2800.\n",
    "# Module de Young de l'aluminium (Pa/m²)\n",
    "E = 70e9\n",
    "# Force appliquée (en N)\n",
    "force = 150e3"
   ]
  },
  {
   "cell_type": "markdown",
   "metadata": {},
   "source": [
    "#### Maillage"
   ]
  },
  {
   "cell_type": "code",
   "execution_count": 3,
   "metadata": {},
   "outputs": [
    {
     "data": {
      "image/png": "[encoded data removed]",
      "text/plain": [
       "<matplotlib.figure.Figure at 0x7fd35feecfd0>"
      ]
     },
     "metadata": {
      "needs_background": "light"
     },
     "output_type": "display_data"
    },
    {
     "name": "stdout",
     "output_type": "stream",
     "text": [
      "[ 0.          0.66666667  1.33333333  2.        ]\n"
     ]
    }
   ],
   "source": [
    "# Nombre d'éléments\n",
    "NE = 3.\n",
    "# Nombre de noeuds\n",
    "NN = int(NE+1)\n",
    "# Taille d'un élément\n",
    "h = float(L/NE)\n",
    "# CCL en déplacement au(x) neud(s) encastré(s)\n",
    "u_impose = np.array([[0]])\n",
    "# Nombre de DDLs liés aux CLs\n",
    "nddlconnus = u_impose.shape[0]\n",
    "# Vecteur coordonnées des noeuds (NN x 1)\n",
    "# coor = np.arange(0,L+h,h) <--- Peut présenter des bugs à cause de la précision des floats\n",
    "coor = np.linspace(0,L,NN)\n",
    "\n",
    "y = np.linspace(1, 1, NN)\n",
    "plt.plot(coor, y, '--o')\n",
    "plt.xlabel('Coordonnées des noeuds')\n",
    "plt.title(\"Configuration initiale de la poutre\")\n",
    "plt.grid()\n",
    "#plt.legend()\n",
    "plt.show()\n",
    "\n",
    "print(coor)"
   ]
  },
  {
   "cell_type": "markdown",
   "metadata": {},
   "source": [
    "#### Initialisation"
   ]
  },
  {
   "cell_type": "code",
   "execution_count": 4,
   "metadata": {},
   "outputs": [],
   "source": [
    "# Initialisation --- Matrice de raideur totale (NN x NN)\n",
    "K = np.zeros((NN,NN))\n",
    "# Initialisation --- Vecteur de force totale (NN x 1)\n",
    "F = np.zeros((NN,1))\n",
    "# Traction simple\n",
    "F[-1] = -force"
   ]
  },
  {
   "cell_type": "markdown",
   "metadata": {},
   "source": [
    "#### Création de la matrice de raideur `[K]`\n",
    "Tout d'abord considérons la fonction `Calcul_Ke`. Cette fonction génère la matrice de raideur d'un élément dont les nœuds sont donnés en argument. Sont également à indiquer le module de Young `E` et la section `S` de la poutre considérée.\n",
    "Cette fonction ne calcule que les matrices de raideur élémentaire des éléments _poutres-2D_. "
   ]
  },
  {
   "cell_type": "code",
   "execution_count": 5,
   "metadata": {},
   "outputs": [],
   "source": [
    "def Calcul_Ke(c,moduledeYoung,surface):\n",
    "\t\"\"\" liste de float, float --> matrice\n",
    "\t\thypothèse : coordonnees de dimension 2\n",
    "\t\tRetourne la matrice de raideur élémentaire \"\"\"\n",
    "\n",
    "\t# Extraction des coordonnées\n",
    "\tx0 = c[0]\n",
    "\tx1 = c[1]\n",
    "\n",
    "\t# Longueur élément \n",
    "\t# Information nécessaire pour les éléments réels car la norme de ces derniers n'est pas normalisée \n",
    "\t# Voir fonction de formme pour les éléments \"non de référence\"\n",
    "\tl = x1-x0\n",
    "\n",
    "\t# Surface non prise en compte si poutre non pesante\n",
    "\tKe = (moduledeYoung*surface/l)*np.array([[1,-1],[-1,1]])\n",
    "\t\n",
    "\treturn Ke"
   ]
  },
  {
   "cell_type": "markdown",
   "metadata": {},
   "source": [
    "#### Assemblage de la matrice de raideur"
   ]
  },
  {
   "cell_type": "code",
   "execution_count": 6,
   "metadata": {},
   "outputs": [],
   "source": [
    "for i in (np.arange(int(NE))):\n",
    "    coor_element = coor[i:((i+1)+1)] # +1 car python fonctionne sur les \"coupes\" entre les éléments d'une liste\n",
    "    \n",
    "    # Matrice de raideur élémentaire\n",
    "    Ke = Calcul_Ke(coor_element,E,S)\n",
    "    # Assemblage de K pénalisé \n",
    "    K[i:i+2,i:i+2] = K[i:i+2,i:i+2]+ Ke"
   ]
  },
  {
   "cell_type": "code",
   "execution_count": 7,
   "metadata": {},
   "outputs": [
    {
     "name": "stdout",
     "output_type": "stream",
     "text": [
      "Matrice de raideur K non pénalisée : \n",
      " [[  5.25000000e+08  -5.25000000e+08   0.00000000e+00   0.00000000e+00]\n",
      " [ -5.25000000e+08   1.05000000e+09  -5.25000000e+08   0.00000000e+00]\n",
      " [  0.00000000e+00  -5.25000000e+08   1.05000000e+09  -5.25000000e+08]\n",
      " [  0.00000000e+00   0.00000000e+00  -5.25000000e+08   5.25000000e+08]]\n"
     ]
    }
   ],
   "source": [
    "if NE <= 3:\n",
    "    print('Matrice de raideur K non pénalisée : \\n',K)"
   ]
  },
  {
   "cell_type": "markdown",
   "metadata": {},
   "source": [
    "#### Prise en compte des CLs : Méthode des _multiplicateurs de Lagrange_\n",
    "On augmente la taille du système linéaire afin de prendre en compte les conditions aux limites imposées par l'encastrement : $u(x=0) = u_0 ^{(1)} = 0$.\n",
    "\n",
    "On génère la matrice de position **[C]**. La matrice est pleine de zéros et les composantes multiplicatives des DDLs connus de {U} dans le système **[C]{U}={0}** sont égales à 1.\n",
    "\n",
    "L'objectif est de créer le  système linéaire augmenté suivant : \n",
    "$$ \n",
    "\\begin{bmatrix}\n",
    "[K] & [C]^T\\\\\n",
    "[C] & [0]\n",
    "\\end{bmatrix} \n",
    "\\begin{Bmatrix}\n",
    "U\\\\\n",
    "\\lambda\n",
    "\\end{Bmatrix}\n",
    "=\n",
    "\\begin{Bmatrix}\n",
    "F\\\\\n",
    "U^d\n",
    "\\end{Bmatrix}\n",
    "$$\n",
    "\n",
    "avec\n",
    "- $\\{ \\lambda \\}$ : Coefficients de Lagrange\n",
    "- $\\{U^d\\}$ : Les déplacements connus"
   ]
  },
  {
   "cell_type": "markdown",
   "metadata": {},
   "source": [
    "Pour générer **[K$_{augmenté}$]**, on ajoute **[C]** puis **[C]$^T$**"
   ]
  },
  {
   "cell_type": "code",
   "execution_count": 8,
   "metadata": {},
   "outputs": [],
   "source": [
    "# Initialisation\n",
    "c = np.zeros((nddlconnus,NN))\n",
    "# Remplissage : ddl 0 (premier  + direction x est encastré)\n",
    "c[:,0:nddlconnus] = 1\n",
    "cT = np.transpose(c)\n",
    "ctransp = np.zeros((NN+nddlconnus,nddlconnus))\n",
    "ctransp[0:NN,0:nddlconnus] = cT\n",
    "# Assemblage\n",
    "K = np.append(K,c,axis=0) \n",
    "K = np.append(K,ctransp,axis=1) # On a K augmenté\n",
    "F = np.append(F,u_impose,axis=0) # On a F augmenté"
   ]
  },
  {
   "cell_type": "code",
   "execution_count": 9,
   "metadata": {},
   "outputs": [
    {
     "name": "stdout",
     "output_type": "stream",
     "text": [
      "Matrice C : \n",
      " [[ 1.  0.  0.  0.]]\n",
      "\n",
      " Membre de gauche : \n",
      " [[      0.]\n",
      " [      0.]\n",
      " [      0.]\n",
      " [-150000.]\n",
      " [      0.]]\n"
     ]
    }
   ],
   "source": [
    "if NE<=3: \n",
    "    print('Matrice C : \\n',c)\n",
    "    print('\\n Membre de gauche : \\n',F)"
   ]
  },
  {
   "cell_type": "markdown",
   "metadata": {},
   "source": [
    "#### Résolution \n",
    "On procède finalement à la résolutio du système. La méthode des multiplicateurs de Lagrande ne permet pas l'emploi de méthode de résolution \"classique\" (LU, gradient, Cholesky) car bien qu'inversible, **[K$_{augmenté}$]** n'est pas définie positive."
   ]
  },
  {
   "cell_type": "code",
   "execution_count": 13,
   "metadata": {
    "scrolled": true
   },
   "outputs": [
    {
     "name": "stdout",
     "output_type": "stream",
     "text": [
      "U = \n",
      " [[ -1.10871735e-19]\n",
      " [ -2.85714286e-04]\n",
      " [ -5.71428571e-04]\n",
      " [ -8.57142857e-04]]\n"
     ]
    },
    {
     "data": {
      "image/png": "[encoded data removed]",
      "text/plain": [
       "<matplotlib.figure.Figure at 0x7fd35fe3f908>"
      ]
     },
     "metadata": {
      "needs_background": "light"
     },
     "output_type": "display_data"
    }
   ],
   "source": [
    "U_aug = np.linalg.solve(K,F)\n",
    "U = U_aug[0:NN]\n",
    "Coefflagrange = U_aug[NN:NN+nddlconnus]\n",
    "print('U = \\n', U)\n",
    "\n",
    "coeff_augm = 100. # coefficient d'augmentation pour la visualisation\n",
    "coor2 = np.sqrt((coor-np.transpose(coeff_augm*U[:,0]))**2)\n",
    "y = np.linspace(0, 0, NN)\n",
    "plt.plot(coor, y, '--o',coor2,y,'--o')\n",
    "plt.xlabel('Coordonnées des noeuds')\n",
    "plt.title('Déformée de la poutre \\n Coeffcient d''augmentation = %d' %(coeff_augm))\n",
    "plt.grid()\n",
    "plt.legend(['Config non déformée','Config déformée'\n",
    "            r' $\\times $ %d' %coeff_augm])\n",
    "plt.show()"
   ]
  },
  {
   "cell_type": "code",
   "execution_count": null,
   "metadata": {},
   "outputs": [],
   "source": []
  }
 ],
 "metadata": {
  "kernelspec": {
   "display_name": "Python 2",
   "language": "python",
   "name": "python2"
  },
  "language_info": {
   "codemirror_mode": {
    "name": "ipython",
    "version": 3
   },
   "file_extension": ".py",
   "mimetype": "text/x-python",
   "name": "python",
   "nbconvert_exporter": "python",
   "pygments_lexer": "ipython3",
   "version": "3.6.6"
  }
 },
 "nbformat": 4,
 "nbformat_minor": 2
}
